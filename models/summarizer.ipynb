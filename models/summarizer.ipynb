{
  "nbformat": 4,
  "nbformat_minor": 0,
  "metadata": {
    "colab": {
      "provenance": []
    },
    "kernelspec": {
      "name": "python3",
      "display_name": "Python 3"
    },
    "language_info": {
      "name": "python"
    }
  },
  "cells": [
    {
      "cell_type": "code",
      "execution_count": 2,
      "metadata": {
        "id": "Lvi-3g7FABo5"
      },
      "outputs": [],
      "source": [
        "import csv\n",
        "import re\n",
        "from argparse import ArgumentParser\n",
        "from collections import defaultdict\n",
        "from os.path import splitext\n",
        "from operator import itemgetter\n",
        "\n",
        "from openpyxl import Workbook, load_workbook\n",
        "from openpyxl.styles import Font\n",
        "from openpyxl.utils import get_column_letter\n"
      ]
    },
    {
      "cell_type": "code",
      "source": [
        "input_path = '/content/Mumbai_event_data_20240201.xlsx'\n",
        "output_path = '/content/Summary_Mumbai_event_data_20240201.xlsx'\n",
        "\n",
        "category_threshold = 100\n",
        "date_format = r\"\\d{1,2}[-/]\\d{1,2}[-/]\\d{2}(\\d{2})?\"\n",
        "date_time_format = r\"\\d{1,2}[-/]\\d{1,2}[-/]\\d{2}(\\d{2})?[- ]\\d{2}:\\d{2}:\\d{2}(\\.\\d{1,6})?\"\n",
        "ignore_values = ['?', 'N/A']\n",
        "sheet_name = None\n",
        "num_samples = 3"
      ],
      "metadata": {
        "id": "ebmAkuJ6ACki"
      },
      "execution_count": 7,
      "outputs": []
    },
    {
      "cell_type": "code",
      "source": [
        "def summarize_excel(input_path, output_path, category_threshold, date_format, date_time_format, ignore_values, sheet_name, num_samples):\n",
        "    date_regex = re.compile(date_format)\n",
        "    date_time_regex = re.compile(date_time_format)\n",
        "\n",
        "    wb = load_workbook(input_path)\n",
        "    ws = wb[sheet_name] if sheet_name else wb.active\n",
        "\n",
        "    headers = [cell.value for cell in next(ws.iter_rows(min_row=1, max_row=1))]\n",
        "    data_columns = {header: defaultdict(int) for header in headers}\n",
        "    all_dates = defaultdict(lambda: True)\n",
        "    all_date_times = defaultdict(lambda: True)\n",
        "\n",
        "    for row in ws.iter_rows(min_row=2):\n",
        "        for header, cell in zip(headers, row):\n",
        "            value = str(cell.value)\n",
        "            if value not in ignore_values:\n",
        "                data_columns[header][value] += 1\n",
        "                all_dates[header] &= bool(date_regex.fullmatch(value))\n",
        "                all_date_times[header] &= bool(date_time_regex.fullmatch(value))\n",
        "\n",
        "    summary_ws = wb.create_sheet(\"Summary\")\n",
        "    samples_ws = wb.create_sheet(\"Samples\")\n",
        "\n",
        "\n",
        "    summary_ws.append(headers)\n",
        "    for col_idx, header in enumerate(headers, start=1):\n",
        "        column_data = data_columns[header]\n",
        "        if len(column_data) <= category_threshold:\n",
        "            for row_idx, (value, count) in enumerate(column_data.items(), start=2):\n",
        "                summary_ws.cell(row=row_idx, column=col_idx).value = f\"{value} ({count})\"\n",
        "        else:\n",
        "            summary_ws.cell(row=2, column=col_idx).value = \"Various Values\"\n",
        "\n",
        "\n",
        "    for row_idx, header in enumerate(headers, start=1):\n",
        "        samples_ws.cell(row=row_idx, column=1).value = header\n",
        "    for col_idx in range(2, num_samples + 2):\n",
        "        for row_idx, header in enumerate(headers, start=1):\n",
        "            samples_ws.cell(row=row_idx, column=col_idx).value = ws.cell(row=col_idx, column=row_idx).value\n",
        "\n",
        "\n",
        "    for sheet in [summary_ws, samples_ws]:\n",
        "        for column_cells in sheet.columns:\n",
        "            length = max(len(str(cell.value)) for cell in column_cells)\n",
        "            sheet.column_dimensions[get_column_letter(column_cells[0].column)].width = length\n",
        "    wb.save(output_path)\n"
      ],
      "metadata": {
        "id": "zVzoFTa8AVrZ"
      },
      "execution_count": 6,
      "outputs": []
    },
    {
      "cell_type": "code",
      "source": [
        "\n",
        "summarize_excel(input_path, output_path, category_threshold, date_format, date_time_format, ignore_values, sheet_name, num_samples)"
      ],
      "metadata": {
        "id": "_iyK7_cRBBsx"
      },
      "execution_count": 8,
      "outputs": []
    },
    {
      "cell_type": "code",
      "source": [],
      "metadata": {
        "id": "zPnSMKixBUyd"
      },
      "execution_count": null,
      "outputs": []
    }
  ]
}